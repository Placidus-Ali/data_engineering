{
 "cells": [
  {
   "cell_type": "markdown",
   "id": "22c4243c-3ac5-4d36-b6fc-3783d2e84e33",
   "metadata": {},
   "source": [
    "**Import Libraries**"
   ]
  },
  {
   "cell_type": "code",
   "execution_count": 83,
   "id": "6ab64619-1f6c-4d5a-b671-cbc86d5fca78",
   "metadata": {},
   "outputs": [],
   "source": [
    "import pandas as pd\n",
    "import pyspark\n",
    "from pyspark.sql import SparkSession\n",
    "from pyspark.sql.types import StructType, StructField, StringType, TimestampType, BooleanType, DoubleType, IntegerType # for creating schema\n",
    "from pyspark.sql.functions import lit # Lit is used to add new columns to a dataframe in spark"
   ]
  },
  {
   "cell_type": "code",
   "execution_count": 30,
   "id": "2b8dc127-c3ec-4606-8d87-31a6f4cbb926",
   "metadata": {},
   "outputs": [
    {
     "name": "stdout",
     "output_type": "stream",
     "text": [
      "Spark version: 4.0.0\n"
     ]
    }
   ],
   "source": [
    "# Create SparkSession\n",
    "spark = SparkSession.builder.getOrCreate()\n",
    "\n",
    "# Check Spark version\n",
    "print(\"Spark version:\", spark.version)"
   ]
  },
  {
   "cell_type": "code",
   "execution_count": 32,
   "id": "df6d6f7b-251b-4d66-ad7a-10f391be0d3b",
   "metadata": {},
   "outputs": [
    {
     "data": {
      "text/html": [
       "<div>\n",
       "<style scoped>\n",
       "    .dataframe tbody tr th:only-of-type {\n",
       "        vertical-align: middle;\n",
       "    }\n",
       "\n",
       "    .dataframe tbody tr th {\n",
       "        vertical-align: top;\n",
       "    }\n",
       "\n",
       "    .dataframe thead th {\n",
       "        text-align: right;\n",
       "    }\n",
       "</style>\n",
       "<table border=\"1\" class=\"dataframe\">\n",
       "  <thead>\n",
       "    <tr style=\"text-align: right;\">\n",
       "      <th></th>\n",
       "      <th>ID</th>\n",
       "      <th>Case Number</th>\n",
       "      <th>Date</th>\n",
       "      <th>Block</th>\n",
       "      <th>IUCR</th>\n",
       "      <th>Primary Type</th>\n",
       "      <th>Description</th>\n",
       "      <th>Location Description</th>\n",
       "      <th>Arrest</th>\n",
       "      <th>Domestic</th>\n",
       "      <th>...</th>\n",
       "      <th>Ward</th>\n",
       "      <th>Community Area</th>\n",
       "      <th>FBI Code</th>\n",
       "      <th>X Coordinate</th>\n",
       "      <th>Y Coordinate</th>\n",
       "      <th>Year</th>\n",
       "      <th>Updated On</th>\n",
       "      <th>Latitude</th>\n",
       "      <th>Longitude</th>\n",
       "      <th>Location</th>\n",
       "    </tr>\n",
       "  </thead>\n",
       "  <tbody>\n",
       "    <tr>\n",
       "      <th>0</th>\n",
       "      <td>13709672</td>\n",
       "      <td>JJ101940</td>\n",
       "      <td>12/31/2024 11:58:00 PM</td>\n",
       "      <td>014XX E 68TH ST</td>\n",
       "      <td>1310</td>\n",
       "      <td>CRIMINAL DAMAGE</td>\n",
       "      <td>TO PROPERTY</td>\n",
       "      <td>APARTMENT</td>\n",
       "      <td>False</td>\n",
       "      <td>False</td>\n",
       "      <td>...</td>\n",
       "      <td>5</td>\n",
       "      <td>43.0</td>\n",
       "      <td>14</td>\n",
       "      <td>1186817.0</td>\n",
       "      <td>1860189.0</td>\n",
       "      <td>2024</td>\n",
       "      <td>05/17/2025 03:40:52 PM</td>\n",
       "      <td>41.771470</td>\n",
       "      <td>-87.590742</td>\n",
       "      <td>POINT (-87.59074212 41.771470188)</td>\n",
       "    </tr>\n",
       "    <tr>\n",
       "      <th>1</th>\n",
       "      <td>13707925</td>\n",
       "      <td>JJ100089</td>\n",
       "      <td>12/31/2024 11:56:00 PM</td>\n",
       "      <td>047XX S DR MARTIN LUTHER KING JR DR</td>\n",
       "      <td>1365</td>\n",
       "      <td>CRIMINAL TRESPASS</td>\n",
       "      <td>TO RESIDENCE</td>\n",
       "      <td>APARTMENT</td>\n",
       "      <td>True</td>\n",
       "      <td>True</td>\n",
       "      <td>...</td>\n",
       "      <td>3</td>\n",
       "      <td>38.0</td>\n",
       "      <td>26</td>\n",
       "      <td>1179661.0</td>\n",
       "      <td>1873623.0</td>\n",
       "      <td>2024</td>\n",
       "      <td>05/17/2025 03:40:52 PM</td>\n",
       "      <td>41.808501</td>\n",
       "      <td>-87.616563</td>\n",
       "      <td>POINT (-87.616562762 41.808500903)</td>\n",
       "    </tr>\n",
       "    <tr>\n",
       "      <th>2</th>\n",
       "      <td>13708038</td>\n",
       "      <td>JJ100035</td>\n",
       "      <td>12/31/2024 11:55:00 PM</td>\n",
       "      <td>077XX S CICERO AVE</td>\n",
       "      <td>0498</td>\n",
       "      <td>BATTERY</td>\n",
       "      <td>AGG. DOMESTIC BATTERY - HANDS, FISTS, FEET, SE...</td>\n",
       "      <td>HOTEL / MOTEL</td>\n",
       "      <td>False</td>\n",
       "      <td>True</td>\n",
       "      <td>...</td>\n",
       "      <td>18</td>\n",
       "      <td>70.0</td>\n",
       "      <td>04B</td>\n",
       "      <td>1145740.0</td>\n",
       "      <td>1853048.0</td>\n",
       "      <td>2024</td>\n",
       "      <td>05/17/2025 03:40:52 PM</td>\n",
       "      <td>41.752749</td>\n",
       "      <td>-87.741498</td>\n",
       "      <td>POINT (-87.741497836 41.752748627)</td>\n",
       "    </tr>\n",
       "    <tr>\n",
       "      <th>3</th>\n",
       "      <td>13709164</td>\n",
       "      <td>JJ101392</td>\n",
       "      <td>12/31/2024 11:53:00 PM</td>\n",
       "      <td>066XX S GREENWOOD AVE</td>\n",
       "      <td>1320</td>\n",
       "      <td>CRIMINAL DAMAGE</td>\n",
       "      <td>TO VEHICLE</td>\n",
       "      <td>STREET</td>\n",
       "      <td>False</td>\n",
       "      <td>False</td>\n",
       "      <td>...</td>\n",
       "      <td>20</td>\n",
       "      <td>42.0</td>\n",
       "      <td>14</td>\n",
       "      <td>1184362.0</td>\n",
       "      <td>1861188.0</td>\n",
       "      <td>2024</td>\n",
       "      <td>05/17/2025 03:40:52 PM</td>\n",
       "      <td>41.774269</td>\n",
       "      <td>-87.599710</td>\n",
       "      <td>POINT (-87.599709962 41.774269351)</td>\n",
       "    </tr>\n",
       "    <tr>\n",
       "      <th>4</th>\n",
       "      <td>13707823</td>\n",
       "      <td>JJ100020</td>\n",
       "      <td>12/31/2024 11:50:00 PM</td>\n",
       "      <td>012XX N MENARD AVE</td>\n",
       "      <td>0460</td>\n",
       "      <td>BATTERY</td>\n",
       "      <td>SIMPLE</td>\n",
       "      <td>SIDEWALK</td>\n",
       "      <td>False</td>\n",
       "      <td>False</td>\n",
       "      <td>...</td>\n",
       "      <td>29</td>\n",
       "      <td>25.0</td>\n",
       "      <td>08B</td>\n",
       "      <td>1137458.0</td>\n",
       "      <td>1907694.0</td>\n",
       "      <td>2024</td>\n",
       "      <td>05/17/2025 03:40:52 PM</td>\n",
       "      <td>41.902858</td>\n",
       "      <td>-87.770537</td>\n",
       "      <td>POINT (-87.770536741 41.902858242)</td>\n",
       "    </tr>\n",
       "  </tbody>\n",
       "</table>\n",
       "<p>5 rows × 22 columns</p>\n",
       "</div>"
      ],
      "text/plain": [
       "         ID Case Number                    Date  \\\n",
       "0  13709672    JJ101940  12/31/2024 11:58:00 PM   \n",
       "1  13707925    JJ100089  12/31/2024 11:56:00 PM   \n",
       "2  13708038    JJ100035  12/31/2024 11:55:00 PM   \n",
       "3  13709164    JJ101392  12/31/2024 11:53:00 PM   \n",
       "4  13707823    JJ100020  12/31/2024 11:50:00 PM   \n",
       "\n",
       "                                 Block  IUCR       Primary Type  \\\n",
       "0                      014XX E 68TH ST  1310    CRIMINAL DAMAGE   \n",
       "1  047XX S DR MARTIN LUTHER KING JR DR  1365  CRIMINAL TRESPASS   \n",
       "2                   077XX S CICERO AVE  0498            BATTERY   \n",
       "3                066XX S GREENWOOD AVE  1320    CRIMINAL DAMAGE   \n",
       "4                   012XX N MENARD AVE  0460            BATTERY   \n",
       "\n",
       "                                         Description Location Description  \\\n",
       "0                                        TO PROPERTY            APARTMENT   \n",
       "1                                       TO RESIDENCE            APARTMENT   \n",
       "2  AGG. DOMESTIC BATTERY - HANDS, FISTS, FEET, SE...        HOTEL / MOTEL   \n",
       "3                                         TO VEHICLE               STREET   \n",
       "4                                             SIMPLE             SIDEWALK   \n",
       "\n",
       "   Arrest  Domestic  ...  Ward  Community Area  FBI Code  X Coordinate  \\\n",
       "0   False     False  ...     5            43.0        14     1186817.0   \n",
       "1    True      True  ...     3            38.0        26     1179661.0   \n",
       "2   False      True  ...    18            70.0       04B     1145740.0   \n",
       "3   False     False  ...    20            42.0        14     1184362.0   \n",
       "4   False     False  ...    29            25.0       08B     1137458.0   \n",
       "\n",
       "  Y Coordinate  Year              Updated On   Latitude  Longitude  \\\n",
       "0    1860189.0  2024  05/17/2025 03:40:52 PM  41.771470 -87.590742   \n",
       "1    1873623.0  2024  05/17/2025 03:40:52 PM  41.808501 -87.616563   \n",
       "2    1853048.0  2024  05/17/2025 03:40:52 PM  41.752749 -87.741498   \n",
       "3    1861188.0  2024  05/17/2025 03:40:52 PM  41.774269 -87.599710   \n",
       "4    1907694.0  2024  05/17/2025 03:40:52 PM  41.902858 -87.770537   \n",
       "\n",
       "                             Location  \n",
       "0   POINT (-87.59074212 41.771470188)  \n",
       "1  POINT (-87.616562762 41.808500903)  \n",
       "2  POINT (-87.741497836 41.752748627)  \n",
       "3  POINT (-87.599709962 41.774269351)  \n",
       "4  POINT (-87.770536741 41.902858242)  \n",
       "\n",
       "[5 rows x 22 columns]"
      ]
     },
     "execution_count": 32,
     "metadata": {},
     "output_type": "execute_result"
    }
   ],
   "source": [
    "# Loading the file\n",
    "df = pd.read_csv('US_crimes_2024.csv')\n",
    "df.head()"
   ]
  },
  {
   "cell_type": "code",
   "execution_count": 11,
   "id": "7ec1704d-845a-400e-ab0b-64befa0736fb",
   "metadata": {},
   "outputs": [
    {
     "data": {
      "text/plain": [
       "(258461, 22)"
      ]
     },
     "execution_count": 11,
     "metadata": {},
     "output_type": "execute_result"
    }
   ],
   "source": [
    "df.shape"
   ]
  },
  {
   "cell_type": "code",
   "execution_count": 34,
   "id": "9c050be4-a576-43ab-bed9-c894964de366",
   "metadata": {},
   "outputs": [],
   "source": [
    "# How to load csv file with spark\n",
    "\n",
    "#df1 = spark.read.csv('US_crimes_2024.csv', header=True)\n",
    "#df1.show(5)\n"
   ]
  },
  {
   "cell_type": "markdown",
   "id": "6b0c1bef-b601-4ad2-b1cc-f68cd26a10e4",
   "metadata": {},
   "source": [
    "**Creating Schemas** Schemas are Structure Types (StructType) ie column name, datatypes and saying weather the column can contain missing value (True) in Spark"
   ]
  },
  {
   "cell_type": "code",
   "execution_count": 38,
   "id": "1ee78df1-bd5d-4951-ae8b-6432b484a753",
   "metadata": {},
   "outputs": [
    {
     "data": {
      "text/plain": [
       "ID                        int64\n",
       "Case Number              object\n",
       "Date                     object\n",
       "Block                    object\n",
       "IUCR                     object\n",
       "Primary Type             object\n",
       "Description              object\n",
       "Location Description     object\n",
       "Arrest                     bool\n",
       "Domestic                   bool\n",
       "Beat                      int64\n",
       "District                  int64\n",
       "Ward                      int64\n",
       "Community Area          float64\n",
       "FBI Code                 object\n",
       "X Coordinate            float64\n",
       "Y Coordinate            float64\n",
       "Year                      int64\n",
       "Updated On               object\n",
       "Latitude                float64\n",
       "Longitude               float64\n",
       "Location                 object\n",
       "dtype: object"
      ]
     },
     "execution_count": 38,
     "metadata": {},
     "output_type": "execute_result"
    }
   ],
   "source": [
    "# checking the datatype\n",
    "\n",
    "df.dtypes"
   ]
  },
  {
   "cell_type": "code",
   "execution_count": null,
   "id": "d3e3b0e0-538b-49b4-8357-84b01aa1fa06",
   "metadata": {},
   "outputs": [],
   "source": [
    "# StructType([\n",
    "#     StructField('ID', StringType, True),\n",
    "#     StructField('Case Number', StringType, True),\n",
    "#     StructField('Date', TimestampType, True),\n",
    "#     StructField('Block', StringType, True),\n",
    "#     StructField('IUCR', StringType, True),\n",
    "#     StructField('Primary Type', StringType, True),\n",
    "#     StructField('Description', StringType, True),\n",
    "#     StructField('Location Description', StringType, True),\n",
    "#     StructField('Arrest', StringType, True),\n",
    "#     StructField('Domestic', BooleanType, True),\n",
    "#     StructField('District', StringType, True),\n",
    "#     StructField('Ward', StringType, True),\n",
    "#     StructField('Community Area', StringType, True),\n",
    "#     StructField('FBI Code', StringType, True),\n",
    "#     StructField('X Coordinate', StringType, True),\n",
    "#     StructField('Y Coordinate', StringType, True),\n",
    "#     StructField('Year', IntegerType, True),\n",
    "#     StructField('Updated On', StringType, True),\n",
    "#     StructField('Latitude', DoubleType, True),\n",
    "#     StructField('Longitude', DoubleType, True),\n",
    "#     StructField('Location', StringType, True)\n",
    "# ])"
   ]
  },
  {
   "cell_type": "code",
   "execution_count": 44,
   "id": "f22ed732-0685-4da9-85c4-6ddcbfcb5df3",
   "metadata": {},
   "outputs": [],
   "source": [
    "# Another way to achieve it is like this\n",
    "\n",
    "labels = [\n",
    "    ('ID', StringType()),\n",
    "    ('Case Number', StringType()),\n",
    "    ('Date', TimestampType()),\n",
    "    ('Block', StringType()),\n",
    "    ('IUCR', StringType()),\n",
    "    ('Primary Type', StringType()),\n",
    "    ('Description', StringType()),\n",
    "    ('Location Description', StringType()),\n",
    "    ('Arrest', StringType()),\n",
    "    ('Domestic', BooleanType()),\n",
    "    ('District', StringType()),\n",
    "    ('Ward', StringType()),\n",
    "    ('Community Area', StringType()),\n",
    "    ('FBI Code', StringType()),\n",
    "    ('X Coordinate', StringType()),\n",
    "    ('Y Coordinate', StringType()),\n",
    "    ('Year', IntegerType()),\n",
    "    ('Updated On', StringType()),\n",
    "    ('Latitude', DoubleType()),\n",
    "    ('Longitude', DoubleType()),\n",
    "    ('Location', StringType())\n",
    "]"
   ]
  },
  {
   "cell_type": "code",
   "execution_count": 52,
   "id": "6cef396b-2187-40f4-8603-670bf2ea7a4d",
   "metadata": {},
   "outputs": [
    {
     "data": {
      "text/plain": [
       "StructType([StructField('ID', StringType(), True), StructField('Case Number', StringType(), True), StructField('Date', TimestampType(), True), StructField('Block', StringType(), True), StructField('IUCR', StringType(), True), StructField('Primary Type', StringType(), True), StructField('Description', StringType(), True), StructField('Location Description', StringType(), True), StructField('Arrest', StringType(), True), StructField('Domestic', BooleanType(), True), StructField('District', StringType(), True), StructField('Ward', StringType(), True), StructField('Community Area', StringType(), True), StructField('FBI Code', StringType(), True), StructField('X Coordinate', StringType(), True), StructField('Y Coordinate', StringType(), True), StructField('Year', IntegerType(), True), StructField('Updated On', StringType(), True), StructField('Latitude', DoubleType(), True), StructField('Longitude', DoubleType(), True), StructField('Location', StringType(), True)])"
      ]
     },
     "execution_count": 52,
     "metadata": {},
     "output_type": "execute_result"
    }
   ],
   "source": [
    "schema = StructType([StructField (x[0],x[1], True) for x in labels])\n",
    "schema"
   ]
  },
  {
   "cell_type": "code",
   "execution_count": 58,
   "id": "73b428e8-fd68-4ab0-832a-8a096a191707",
   "metadata": {},
   "outputs": [
    {
     "data": {
      "text/plain": [
       "[('ID', 'string'),\n",
       " ('Case Number', 'string'),\n",
       " ('Date', 'timestamp'),\n",
       " ('Block', 'string'),\n",
       " ('IUCR', 'string'),\n",
       " ('Primary Type', 'string'),\n",
       " ('Description', 'string'),\n",
       " ('Location Description', 'string'),\n",
       " ('Arrest', 'string'),\n",
       " ('Domestic', 'boolean'),\n",
       " ('District', 'string'),\n",
       " ('Ward', 'string'),\n",
       " ('Community Area', 'string'),\n",
       " ('FBI Code', 'string'),\n",
       " ('X Coordinate', 'string'),\n",
       " ('Y Coordinate', 'string'),\n",
       " ('Year', 'int'),\n",
       " ('Updated On', 'string'),\n",
       " ('Latitude', 'double'),\n",
       " ('Longitude', 'double'),\n",
       " ('Location', 'string')]"
      ]
     },
     "execution_count": 58,
     "metadata": {},
     "output_type": "execute_result"
    }
   ],
   "source": [
    "df = spark.read.csv('US_crimes_2024.csv', schema=schema)\n",
    "df.dtypes"
   ]
  },
  {
   "cell_type": "markdown",
   "id": "f6fdfdd5-97ab-41d6-a236-e5e7c74de2f1",
   "metadata": {},
   "source": [
    "We have successfully given our dataset the desired schema we wanted"
   ]
  },
  {
   "cell_type": "code",
   "execution_count": 72,
   "id": "598cb194-2a8c-4b5f-8b5c-d1cb5011a37c",
   "metadata": {},
   "outputs": [
    {
     "data": {
      "text/plain": [
       "DataFrame[ID: string, Case Number: string, Date: timestamp, Block: string, IUCR: string, Primary Type: string, Description: string, Location Description: string, Arrest: string, Domestic: boolean, District: string, Ward: string, Community Area: string, FBI Code: string, X Coordinate: string, Y Coordinate: string, Year: int, Updated On: string, Latitude: double, Longitude: double, Location: string]"
      ]
     },
     "execution_count": 72,
     "metadata": {},
     "output_type": "execute_result"
    }
   ],
   "source": [
    "df.limit(5)"
   ]
  },
  {
   "cell_type": "code",
   "execution_count": 70,
   "id": "afb4126c-94a4-4540-a434-31ec231b707e",
   "metadata": {},
   "outputs": [
    {
     "name": "stdout",
     "output_type": "stream",
     "text": [
      "+--------+-----------+----+-----------------------------------+----+-------------------+----------------------------------------------------------+--------------------+------+--------+--------+--------+--------------+--------------+------------+------------+-------+----------+--------+------------+-------------+\n",
      "|ID      |Case Number|Date|Block                              |IUCR|Primary Type       |Description                                               |Location Description|Arrest|Domestic|District|Ward    |Community Area|FBI Code      |X Coordinate|Y Coordinate|Year   |Updated On|Latitude|Longitude   |Location     |\n",
      "+--------+-----------+----+-----------------------------------+----+-------------------+----------------------------------------------------------+--------------------+------+--------+--------+--------+--------------+--------------+------------+------------+-------+----------+--------+------------+-------------+\n",
      "|ID      |Case Number|NULL|Block                              |IUCR|Primary Type       |Description                                               |Location Description|Arrest|NULL    |Beat    |District|Ward          |Community Area|FBI Code    |X Coordinate|NULL   |Year      |NULL    |NULL        |Longitude    |\n",
      "|13709672|JJ101940   |NULL|014XX E 68TH ST                    |1310|CRIMINAL DAMAGE    |TO PROPERTY                                               |APARTMENT           |false |false   |0332    |003     |5             |43            |14          |1186817     |1860189|2024      |NULL    |41.771470188|-87.59074212 |\n",
      "|13707925|JJ100089   |NULL|047XX S DR MARTIN LUTHER KING JR DR|1365|CRIMINAL TRESPASS  |TO RESIDENCE                                              |APARTMENT           |true  |true    |0223    |002     |3             |38            |26          |1179661     |1873623|2024      |NULL    |41.808500903|-87.616562762|\n",
      "|13708038|JJ100035   |NULL|077XX S CICERO AVE                 |0498|BATTERY            |AGG. DOMESTIC BATTERY - HANDS, FISTS, FEET, SERIOUS INJURY|HOTEL / MOTEL       |false |true    |0834    |008     |18            |70            |04B         |1145740     |1853048|2024      |NULL    |41.752748627|-87.741497836|\n",
      "|13709164|JJ101392   |NULL|066XX S GREENWOOD AVE              |1320|CRIMINAL DAMAGE    |TO VEHICLE                                                |STREET              |false |false   |0321    |003     |20            |42            |14          |1184362     |1861188|2024      |NULL    |41.774269351|-87.599709962|\n",
      "|13707823|JJ100020   |NULL|012XX N MENARD AVE                 |0460|BATTERY            |SIMPLE                                                    |SIDEWALK            |false |false   |2531    |025     |29            |25            |08B         |1137458     |1907694|2024      |NULL    |41.902858242|-87.770536741|\n",
      "|13707839|JJ100021   |NULL|021XX W CULLERTON ST               |0486|BATTERY            |DOMESTIC BATTERY SIMPLE                                   |STREET              |false |true    |1234    |012     |25            |31            |08B         |1162508     |1890389|2024      |NULL    |41.854883985|-87.67900769 |\n",
      "|13707986|JJ100019   |NULL|117XX S STATE ST                   |0486|BATTERY            |DOMESTIC BATTERY SIMPLE                                   |APARTMENT           |false |true    |0532    |005     |9             |53            |08B         |1178352     |1827293|2024      |NULL    |41.68139574 |-87.622767037|\n",
      "|13707849|JJ100011   |NULL|018XX W MAYPOLE AVE                |1310|CRIMINAL DAMAGE    |TO PROPERTY                                               |APARTMENT           |false |false   |1223    |012     |27            |28            |14          |1164081     |1901067|2024      |NULL    |41.884152322|-87.672932576|\n",
      "|13707847|JJ100007   |NULL|029XX W CHICAGO AVE                |1345|CRIMINAL DAMAGE    |TO CITY OF CHICAGO PROPERTY                               |CTA BUS             |false |false   |1211    |012     |36            |24            |14          |1156857     |1905197|2024      |NULL    |41.895634912|-87.699347915|\n",
      "|13707836|JJ100034   |NULL|0000X S OAKLEY BLVD                |0910|MOTOR VEHICLE THEFT|AUTOMOBILE                                                |STREET              |false |false   |1223    |012     |27            |28            |07          |1161090     |1899804|2024      |NULL    |41.880749175|-87.683950956|\n",
      "|13709517|JJ101458   |NULL|047XX W HARRISON ST                |1320|CRIMINAL DAMAGE    |TO VEHICLE                                                |STREET              |false |false   |1131    |011     |24            |25            |14          |1144914     |1896933|2024      |NULL    |41.873191313|-87.743420863|\n",
      "|13708645|JJ100914   |NULL|046XX N KASSON AVE                 |2825|OTHER OFFENSE      |HARASSMENT BY TELEPHONE                                   |RESIDENCE           |false |true    |1722    |017     |39            |14            |26          |1146968     |1930707|2024      |NULL    |41.965831469|-87.735014412|\n",
      "|13710034|JJ102510   |NULL|063XX S DR MARTIN LUTHER KING JR DR|0910|MOTOR VEHICLE THEFT|AUTOMOBILE                                                |STREET              |false |false   |0312    |003     |20            |69            |07          |1180014     |1862868|2024      |NULL    |41.778980114|-87.615597389|\n",
      "|13707879|JJ100006   |NULL|016XX S RUBLE ST                   |0486|BATTERY            |DOMESTIC BATTERY SIMPLE                                   |RESIDENCE           |false |true    |1235    |012     |25            |31            |08B         |1172072     |1892178|2024      |NULL    |41.859587783|-87.643851097|\n",
      "|13707871|JJ100018   |NULL|043XX N WESTERN AVE                |0486|BATTERY            |DOMESTIC BATTERY SIMPLE                                   |SIDEWALK            |false |true    |1911    |019     |47            |5             |08B         |1159595     |1928661|2024      |NULL    |41.95996579 |-87.688643896|\n",
      "|13707858|JH561804   |NULL|022XX S MICHIGAN AVE               |143A|WEAPONS VIOLATION  |UNLAWFUL POSSESSION - HANDGUN                             |STREET              |true  |false   |0132    |001     |3             |33            |15          |1177562     |1889451|2024      |NULL    |41.851981965|-87.623781857|\n",
      "|13707809|JH561809   |NULL|0000X E 69TH ST                    |041A|BATTERY            |AGGRAVATED - HANDGUN                                      |STREET              |false |false   |0322    |003     |6             |69            |04B         |1177706     |1859276|2024      |NULL    |41.769175835|-87.624167245|\n",
      "|13707829|JH561806   |NULL|023XX S WINCHESTER AVE             |0560|ASSAULT            |SIMPLE                                                    |STREET              |true  |false   |1034    |010     |25            |31            |08A         |1163673     |1888638|2024      |NULL    |41.85005463 |-87.674780925|\n",
      "|13707938|JH561811   |NULL|069XX S STONY ISLAND AVE           |143A|WEAPONS VIOLATION  |UNLAWFUL POSSESSION - HANDGUN                             |STREET              |true  |false   |0332    |003     |5             |43            |15          |1188125     |1859079|2024      |NULL    |41.768393163|-87.585982866|\n",
      "+--------+-----------+----+-----------------------------------+----+-------------------+----------------------------------------------------------+--------------------+------+--------+--------+--------+--------------+--------------+------------+------------+-------+----------+--------+------------+-------------+\n",
      "only showing top 20 rows\n"
     ]
    }
   ],
   "source": [
    "df.show(truncate=False)"
   ]
  },
  {
   "cell_type": "markdown",
   "id": "7a4814d7-fd34-4c8a-a2d5-10c972d95ec8",
   "metadata": {},
   "source": [
    "**Working with columns**"
   ]
  },
  {
   "cell_type": "code",
   "execution_count": 79,
   "id": "56701d7e-30bb-4617-804a-6d5f195381a8",
   "metadata": {},
   "outputs": [
    {
     "name": "stdout",
     "output_type": "stream",
     "text": [
      "+----+\n",
      "|Date|\n",
      "+----+\n",
      "|NULL|\n",
      "|NULL|\n",
      "|NULL|\n",
      "|NULL|\n",
      "|NULL|\n",
      "+----+\n",
      "only showing top 5 rows\n"
     ]
    }
   ],
   "source": [
    "# Selecting a specific column and number of rows in spark\n",
    "\n",
    "df.select('Date').show(5)"
   ]
  },
  {
   "cell_type": "code",
   "execution_count": 81,
   "id": "2f3ff3e0-b4a4-463f-b124-0a64e45f138d",
   "metadata": {},
   "outputs": [
    {
     "name": "stdout",
     "output_type": "stream",
     "text": [
      "+--------+-----------+----+------+\n",
      "|      ID|Case Number|Date|Arrest|\n",
      "+--------+-----------+----+------+\n",
      "|      ID|Case Number|NULL|Arrest|\n",
      "|13709672|   JJ101940|NULL| false|\n",
      "|13707925|   JJ100089|NULL|  true|\n",
      "|13708038|   JJ100035|NULL| false|\n",
      "+--------+-----------+----+------+\n",
      "only showing top 4 rows\n"
     ]
    }
   ],
   "source": [
    "# Displaying specific columns with number of rows in spark\n",
    "df.select('ID', 'Case Number', 'Date', 'Arrest').show(4)"
   ]
  },
  {
   "cell_type": "code",
   "execution_count": 85,
   "id": "6bf2d946-a02d-4b06-9941-9ac373c85bf6",
   "metadata": {},
   "outputs": [
    {
     "name": "stdout",
     "output_type": "stream",
     "text": [
      "+--------+-----------+----+--------------------+----+-----------------+--------------------+--------------------+------+--------+--------+--------+--------------+--------------+------------+------------+-------+----------+--------+------------+-------------+------+\n",
      "|      ID|Case Number|Date|               Block|IUCR|     Primary Type|         Description|Location Description|Arrest|Domestic|District|    Ward|Community Area|      FBI Code|X Coordinate|Y Coordinate|   Year|Updated On|Latitude|   Longitude|     Location|Number|\n",
      "+--------+-----------+----+--------------------+----+-----------------+--------------------+--------------------+------+--------+--------+--------+--------------+--------------+------------+------------+-------+----------+--------+------------+-------------+------+\n",
      "|      ID|Case Number|NULL|               Block|IUCR|     Primary Type|         Description|Location Description|Arrest|    NULL|    Beat|District|          Ward|Community Area|    FBI Code|X Coordinate|   NULL|      Year|    NULL|        NULL|    Longitude|     1|\n",
      "|13709672|   JJ101940|NULL|     014XX E 68TH ST|1310|  CRIMINAL DAMAGE|         TO PROPERTY|           APARTMENT| false|   false|    0332|     003|             5|            43|          14|     1186817|1860189|      2024|    NULL|41.771470188| -87.59074212|     1|\n",
      "|13707925|   JJ100089|NULL|047XX S DR MARTIN...|1365|CRIMINAL TRESPASS|        TO RESIDENCE|           APARTMENT|  true|    true|    0223|     002|             3|            38|          26|     1179661|1873623|      2024|    NULL|41.808500903|-87.616562762|     1|\n",
      "|13708038|   JJ100035|NULL|  077XX S CICERO AVE|0498|          BATTERY|AGG. DOMESTIC BAT...|       HOTEL / MOTEL| false|    true|    0834|     008|            18|            70|         04B|     1145740|1853048|      2024|    NULL|41.752748627|-87.741497836|     1|\n",
      "|13709164|   JJ101392|NULL|066XX S GREENWOOD...|1320|  CRIMINAL DAMAGE|          TO VEHICLE|              STREET| false|   false|    0321|     003|            20|            42|          14|     1184362|1861188|      2024|    NULL|41.774269351|-87.599709962|     1|\n",
      "+--------+-----------+----+--------------------+----+-----------------+--------------------+--------------------+------+--------+--------+--------+--------------+--------------+------------+------------+-------+----------+--------+------------+-------------+------+\n",
      "only showing top 5 rows\n"
     ]
    }
   ],
   "source": [
    "# Adding a new column to our dataframe called Number with all entries in it as 1\n",
    "\n",
    "df.withColumn('Number', lit(1)).show(5)"
   ]
  },
  {
   "cell_type": "code",
   "execution_count": 89,
   "id": "9c25ca51-a6e3-4fae-96b5-69931cec2e0d",
   "metadata": {},
   "outputs": [
    {
     "name": "stdout",
     "output_type": "stream",
     "text": [
      "+--------+-----------+----+--------------------+----+-----------------+--------------------+--------------------+------+--------+--------+--------+--------------+--------------+------------+------------+-------+----------+--------+------------+-------------+\n",
      "|      ID|Case Number|Date|               Block|IUCR|     Primary Type|         Description|Location Description|Arrest|Domestic|District|    Ward|Community Area|      FBI Code|X Coordinate|Y Coordinate|   Year|Updated On|Latitude|   Longitude|     Location|\n",
      "+--------+-----------+----+--------------------+----+-----------------+--------------------+--------------------+------+--------+--------+--------+--------------+--------------+------------+------------+-------+----------+--------+------------+-------------+\n",
      "|      ID|Case Number|NULL|               Block|IUCR|     Primary Type|         Description|Location Description|Arrest|    NULL|    Beat|District|          Ward|Community Area|    FBI Code|X Coordinate|   NULL|      Year|    NULL|        NULL|    Longitude|\n",
      "|13709672|   JJ101940|NULL|     014XX E 68TH ST|1310|  CRIMINAL DAMAGE|         TO PROPERTY|           APARTMENT| false|   false|    0332|     003|             5|            43|          14|     1186817|1860189|      2024|    NULL|41.771470188| -87.59074212|\n",
      "|13707925|   JJ100089|NULL|047XX S DR MARTIN...|1365|CRIMINAL TRESPASS|        TO RESIDENCE|           APARTMENT|  true|    true|    0223|     002|             3|            38|          26|     1179661|1873623|      2024|    NULL|41.808500903|-87.616562762|\n",
      "|13708038|   JJ100035|NULL|  077XX S CICERO AVE|0498|          BATTERY|AGG. DOMESTIC BAT...|       HOTEL / MOTEL| false|    true|    0834|     008|            18|            70|         04B|     1145740|1853048|      2024|    NULL|41.752748627|-87.741497836|\n",
      "|13709164|   JJ101392|NULL|066XX S GREENWOOD...|1320|  CRIMINAL DAMAGE|          TO VEHICLE|              STREET| false|   false|    0321|     003|            20|            42|          14|     1184362|1861188|      2024|    NULL|41.774269351|-87.599709962|\n",
      "+--------+-----------+----+--------------------+----+-----------------+--------------------+--------------------+------+--------+--------+--------+--------------+--------------+------------+------------+-------+----------+--------+------------+-------------+\n",
      "only showing top 5 rows\n"
     ]
    }
   ],
   "source": [
    "# Dropping a column\n",
    "df = df.drop('Number')\n",
    "df.show(5)"
   ]
  },
  {
   "cell_type": "code",
   "execution_count": null,
   "id": "f5dc5fa4-dcdd-4d2c-8b19-884214b1ce3e",
   "metadata": {},
   "outputs": [],
   "source": []
  }
 ],
 "metadata": {
  "kernelspec": {
   "display_name": "Python 3 (ipykernel)",
   "language": "python",
   "name": "python3"
  },
  "language_info": {
   "codemirror_mode": {
    "name": "ipython",
    "version": 3
   },
   "file_extension": ".py",
   "mimetype": "text/x-python",
   "name": "python",
   "nbconvert_exporter": "python",
   "pygments_lexer": "ipython3",
   "version": "3.12.7"
  }
 },
 "nbformat": 4,
 "nbformat_minor": 5
}
